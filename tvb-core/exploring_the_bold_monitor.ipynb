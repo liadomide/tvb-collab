{
 "cells": [
  {
   "cell_type": "markdown",
   "metadata": {},
   "source": [
    "Exploring The Bold Monitor\n",
    "==============================================================="
   ]
  },
  {
   "cell_type": "markdown",
   "metadata": {},
   "source": [
    "This tutorial explores the different functions used to model the haemodynamic response function (HRF) to compute the BOLD (Blood Oxygenation Level Dependent) signal. \n",
    "\n",
    "In the current implementation (1.1.3) TVB has HRF kernels:\n",
    "\n",
    "1. a Gamma function,\n",
    "2. a difference of two damped oscillators, \n",
    "3. a first order Volterra kernel, and\n",
    "4. a mixture of gamma functions. "
   ]
  },
  {
   "cell_type": "markdown",
   "metadata": {},
   "source": [
    "*Bold Monitor*\n",
    "--------\n",
    "\n",
    "\n",
    "\n",
    "Let's start by creating an instance of the Bold monitor with its default parameters:"
   ]
  },
  {
   "cell_type": "code",
   "execution_count": 1,
   "metadata": {},
   "outputs": [
    {
     "name": "stdout",
     "output_type": "stream",
     "text": [
      "Populating the interactive namespace from numpy and matplotlib\n",
      "2020-05-23 13:29:28,998 - WARNING - tvb.simulator.common - psutil module not available: no warnings will be issued when a\n",
      "    simulation may require more memory than available\n",
      "   INFO  log level set to INFO\n"
     ]
    },
    {
     "data": {
      "text/html": [
       "<table>\n",
       "<h3>Bold</h3>\n",
       "<thead><tr><th></th><th style=\"text-align:left;width:40%\">value</th></tr></thead>\n",
       "<tbody>\n",
       "<tr><td>Type</td><td style=\"text-align:left;\"><pre>Bold</pre></td>\n",
       "<tr><td>gid</td><td style=\"text-align:left;\"><pre>UUID('4a81cb75-3787-4f6b-850d-7f5d7989106d')</pre></td>\n",
       "<tr><td>hrf_kernel</td><td style=\"text-align:left;\"><pre>FirstOrderVolterra gid: b46fd023-7c72-403b-8a25-aa6da47d4364</pre></td>\n",
       "<tr><td>hrf_length</td><td style=\"text-align:left;\"><pre>20000.0</pre></td>\n",
       "<tr><td>period</td><td style=\"text-align:left;\"><pre>2000.0</pre></td>\n",
       "<tr><td>title</td><td style=\"text-align:left;\"><pre>Bold gid: 4a81cb75-3787-4f6b-850d-7f5d7989106d</pre></td>\n",
       "<tr><td>variables_of_interest</td><td style=\"text-align:left;\"><pre>None</pre></td>\n",
       "</tbody></table>"
      ],
      "text/plain": [
       "<tvb.simulator.monitors.Bold at 0x7fd59a09f390>"
      ]
     },
     "execution_count": 1,
     "metadata": {},
     "output_type": "execute_result"
    }
   ],
   "source": [
    "%pylab inline\n",
    "\n",
    "from tvb.simulator.lab import *\n",
    "\n",
    "bold = monitors.Bold()\n",
    "bold.configure()\n",
    "bold"
   ]
  },
  {
   "cell_type": "markdown",
   "metadata": {},
   "source": [
    "In general, the sampling period of a monitor is in milliseconds and must be an integral multiple of the integration-step size used in a simulation. \n",
    "\n",
    "Therefore, monitors need to know the integration time step (*dt*) because some data reduction mechanims (eg, downsampling to the monitor's sampling period) depend on it. An easy way to achieve this is:"
   ]
  },
  {
   "cell_type": "code",
   "execution_count": 2,
   "metadata": {},
   "outputs": [],
   "source": [
    "bold.dt = 2**-4 # Default value used in the scripts found at tvb/simulator/demos"
   ]
  },
  {
   "cell_type": "markdown",
   "metadata": {},
   "source": [
    "HRFs are TVB Equation datatypes, and you can explore their attributes, "
   ]
  },
  {
   "cell_type": "code",
   "execution_count": 3,
   "metadata": {},
   "outputs": [
    {
     "data": {
      "text/html": [
       "<table>\n",
       "<h3>FirstOrderVolterra</h3>\n",
       "<thead><tr><th></th><th style=\"text-align:left;width:40%\">value</th></tr></thead>\n",
       "<tbody>\n",
       "<tr><td>Equation type</td><td style=\"text-align:left;\"><pre>FirstOrderVolterra</pre></td>\n",
       "<tr><td>equation</td><td style=\"text-align:left;\"><pre>1/3. * exp(-0.5*(var / tau_s)) * (sin(sqrt(1./tau_f - 1./(4.*tau_s**2)) * var)) / (sqrt(1./tau_f - 1./(4.*tau_s**2)))</pre></td>\n",
       "<tr><td>parameters</td><td style=\"text-align:left;\"><pre>{'tau_s': 0.8, 'tau_f': 0.4, 'k_1': 5.6, 'V_0': 0.02}</pre></td>\n",
       "</tbody></table>"
      ],
      "text/plain": [
       "<tvb.datatypes.equations.FirstOrderVolterra at 0x7fd5853a2898>"
      ]
     },
     "execution_count": 3,
     "metadata": {},
     "output_type": "execute_result"
    }
   ],
   "source": [
    "bold.hrf_kernel"
   ]
  },
  {
   "cell_type": "markdown",
   "metadata": {},
   "source": [
    "The default kernel is the **Volterra kernel**. The shape of this function depends on the following parameters: \n",
    "\n",
    "1. $\\tau_s$, rate constant of signal decay;\n",
    "2. $\\tau_f$, rate constant of feedback regulation;\n",
    "\n",
    "* $V_0$ and $k_1$ are parameters used in the monitor to scale the amplitude of the response. See [1]. "
   ]
  },
  {
   "cell_type": "markdown",
   "metadata": {},
   "source": [
    "Let's have a look at the function:"
   ]
  },
  {
   "cell_type": "code",
   "execution_count": 4,
   "metadata": {},
   "outputs": [],
   "source": [
    "bold.compute_hrf()"
   ]
  },
  {
   "cell_type": "markdown",
   "metadata": {},
   "source": [
    "By default, the method **compute_hrf** gives the reflected version of the HRF. The product between this reflected HRF and the monitor's neural activity history (convolution) yields the BOLD signal. In python the indexing [::-1] will give the HRF kernel as often seen in scientific publications. "
   ]
  },
  {
   "cell_type": "code",
   "execution_count": 5,
   "metadata": {},
   "outputs": [
    {
     "data": {
      "text/plain": [
       "[<matplotlib.lines.Line2D at 0x7fd57f51bf28>]"
      ]
     },
     "execution_count": 5,
     "metadata": {},
     "output_type": "execute_result"
    },
    {
     "data": {
      "image/png": "[encoded data removed]",
      "text/plain": [
       "<Figure size 432x288 with 1 Axes>"
      ]
     },
     "metadata": {
      "needs_background": "light"
     },
     "output_type": "display_data"
    }
   ],
   "source": [
    "# plot the kernel\n",
    "plt.plot(bold._stock_time, bold.hemodynamic_response_function.T[::-1]); \n",
    "plt.ylabel('hrf');\n",
    "plt.xlabel('time [sec]')\n",
    "\n",
    "# plot the maximum\n",
    "plt.plot(bold._stock_time[bold.hemodynamic_response_function.T[::-1].argmax()], bold.hemodynamic_response_function.T[::-1].max(), 'ko')"
   ]
  },
  {
   "cell_type": "code",
   "execution_count": 6,
   "metadata": {},
   "outputs": [
    {
     "name": "stdout",
     "output_type": "stream",
     "text": [
      "Rising peak is around 0.80 seconds\n"
     ]
    }
   ],
   "source": [
    "print ('Rising peak is around %1.2f seconds' % bold._stock_time[bold.hemodynamic_response_function.T[::-1].argmax()])"
   ]
  },
  {
   "cell_type": "markdown",
   "metadata": {},
   "source": [
    "Exploring other HRF kernels\n",
    "---------------------------\n",
    "\n",
    " \n",
    "First, we will create new instances of the Bold monitor.\n",
    "\n",
    "Second, the equation defining the hrf kernel has to be changed. To achieve this we will make use of the predefined functions as Equations datatypes \n",
    "\n",
    "- In [2] they used a simple gamma function; in [3] a difference of damped oscillators was fitted to functional data from the visual cortex; the mixture of gammas is the function used in softwares like SPM. "
   ]
  },
  {
   "cell_type": "code",
   "execution_count": 7,
   "metadata": {},
   "outputs": [
    {
     "data": {
      "text/plain": [
       "<matplotlib.legend.Legend at 0x7fd57f26c748>"
      ]
     },
     "execution_count": 7,
     "metadata": {},
     "output_type": "execute_result"
    },
    {
     "data": {
      "image/png": "[encoded data removed]",
      "text/plain": [
       "<Figure size 432x288 with 1 Axes>"
      ]
     },
     "metadata": {
      "needs_background": "light"
     },
     "output_type": "display_data"
    }
   ],
   "source": [
    "hrf_kernels = [equations.FirstOrderVolterra(),\n",
    "               equations.DoubleExponential(),\n",
    "               equations.MixtureOfGammas(),\n",
    "               equations.Gamma()]\n",
    "\n",
    "figure()\n",
    "for hrf in hrf_kernels: \n",
    "    bold_monitor = monitors.Bold(hrf_kernel=hrf)\n",
    "    bold_monitor.dt = 2**-4\n",
    "    bold_monitor.compute_hrf()\n",
    "    plot(bold_monitor._stock_time,\n",
    "         bold_monitor.hemodynamic_response_function.T[::-1], \n",
    "         label=hrf.__class__.__name__);\n",
    "\n",
    "ylabel('hrf');\n",
    "xlabel('time [sec]')    \n",
    "legend()"
   ]
  },
  {
   "cell_type": "markdown",
   "metadata": {},
   "source": [
    "* [1] Friston, K., Mechelli, A., Turner, R., and Price, C., *Nonlinear Responses in fMRI: The Balloon Model, Volterra Kernels, and Other Hemodynamics*, NeuroImage, 12, 466 - 477, 2000. \n",
    "\n",
    "* [2] Geoffrey M. Boynton, Stephen A. Engel, Gary H. Glover and David J. Heeger (1996). *Linear Systems Analysis of Functional Magnetic Resonance Imaging in Human V1*. J Neurosci 16: 4207-4221\n",
    "\n",
    "* [3] Alex Polonsky, Randolph Blake, Jochen Braun and David J. Heeger (2000). *Neuronal activity in human primary visual cortex correlates with perception during binocular rivalry*. Nature Neuroscience 3: 1153-1159\n",
    "\n",
    "* [4] Glover, G. *Deconvolution of Impulse Response in Event-Related BOLD fMRI*. NeuroImage 9, 416-429, 1999.\n",
    "\n",
    "* [5] Have a look at this tutorial: http://nbviewer.ipython.org/github/practical-neuroimaging/pna-notebooks/blob/master/convolution.ipynb\n",
    "\n",
    "* [6] Drysdale, P. M.; Huber, J. P.; Robinson, P. A. & Aquino, K. M. *Spatiotemporal BOLD dynamics from a poroelastic hemodynamic model*. J Theor Biol, 2010, 265, 524–534\n",
    "\n",
    "* [7] http://en.wikibooks.org/wiki/SPM/Haemodynamic_Response_Function\n"
   ]
  },
  {
   "cell_type": "code",
   "execution_count": null,
   "metadata": {},
   "outputs": [],
   "source": []
  }
 ],
 "metadata": {
  "kernelspec": {
   "display_name": "Python 3",
   "language": "python",
   "name": "python3"
  },
  "language_info": {
   "codemirror_mode": {
    "name": "ipython",
    "version": 3
   },
   "file_extension": ".py",
   "mimetype": "text/x-python",
   "name": "python",
   "nbconvert_exporter": "python",
   "pygments_lexer": "ipython3",
   "version": "3.6.9"
  },
  "pycharm": {
   "stem_cell": {
    "cell_type": "raw",
    "metadata": {
     "collapsed": false
    },
    "source": []
   }
  }
 },
 "nbformat": 4,
 "nbformat_minor": 4
}
