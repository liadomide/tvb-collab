{
 "cells": [
  {
   "cell_type": "markdown",
   "metadata": {},
   "source": [
    "# TVB NEST"
   ]
  },
  {
   "cell_type": "markdown",
   "metadata": {},
   "source": [
    "## This example shows how to test that TVB and NEST are deployed correctly on CSCS infrastructure for the current user"
   ]
  },
  {
   "cell_type": "code",
   "execution_count": 1,
   "metadata": {},
   "outputs": [
    {
     "name": "stdout",
     "output_type": "stream",
     "text": [
      "Requirement already up-to-date: pyunicore in /opt/app-root/lib/python3.6/site-packages (0.5.9)\n",
      "Requirement already satisfied, skipping upgrade: PyJWT>=1.7 in /opt/app-root/lib/python3.6/site-packages (from pyunicore) (1.7.1)\n",
      "Requirement already satisfied, skipping upgrade: requests>=2.5 in /opt/app-root/lib/python3.6/site-packages (from pyunicore) (2.23.0)\n",
      "Requirement already satisfied, skipping upgrade: idna<3,>=2.5 in /opt/app-root/lib/python3.6/site-packages (from requests>=2.5->pyunicore) (2.9)\n",
      "Requirement already satisfied, skipping upgrade: chardet<4,>=3.0.2 in /opt/app-root/lib/python3.6/site-packages (from requests>=2.5->pyunicore) (3.0.4)\n",
      "Requirement already satisfied, skipping upgrade: urllib3!=1.25.0,!=1.25.1,<1.26,>=1.21.1 in /opt/app-root/lib/python3.6/site-packages (from requests>=2.5->pyunicore) (1.25.8)\n",
      "Requirement already satisfied, skipping upgrade: certifi>=2017.4.17 in /opt/app-root/lib/python3.6/site-packages (from requests>=2.5->pyunicore) (2019.11.28)\n",
      "\u001b[33mWARNING: You are using pip version 20.0.2; however, version 20.1.1 is available.\n",
      "You should consider upgrading via the '/opt/app-root/bin/python3 -m pip install --upgrade pip' command.\u001b[0m\n"
     ]
    },
    {
     "data": {
      "text/plain": [
       "'https://brissago.cscs.ch:8080/DAINT-CSCS/rest/core'"
      ]
     },
     "execution_count": 1,
     "metadata": {},
     "output_type": "execute_result"
    }
   ],
   "source": [
    "!pip install pyunicore --upgrade\n",
    "import pyunicore.client as unicore_client\n",
    "\n",
    "token = clb_oauth.get_token()\n",
    "tr = unicore_client.Transport(token)\n",
    "r = unicore_client.Registry(tr, unicore_client._HBP_REGISTRY_URL)\n",
    "\n",
    "# use \"DAINT-CSCS\" -- change if another supercomputer is prepared for usage\n",
    "site_client = r.site('DAINT-CSCS')\n",
    "site_client.site_url"
   ]
  },
  {
   "cell_type": "code",
   "execution_count": 2,
   "metadata": {},
   "outputs": [
    {
     "data": {
      "text/plain": [
       "{'Executable': 'job_config.sh',\n",
       " 'Imports': [{'From': 'https://raw.githubusercontent.com/the-virtual-brain/tvb-multiscale/master/docker/cosimulate_tvb_nest.sh',\n",
       "   'To': 'job_config.sh'}],\n",
       " 'Resources': {'CPUs': '1'}}"
      ]
     },
     "execution_count": 2,
     "metadata": {},
     "output_type": "execute_result"
    }
   ],
   "source": [
    "job_configuration = \"job_config.sh\"\n",
    "\n",
    "job_config = {\n",
    "    \"From\": \"https://raw.githubusercontent.com/the-virtual-brain/tvb-multiscale/master/docker/cosimulate_tvb_nest.sh\",\n",
    "    \"To\" : job_configuration\n",
    "}\n",
    "\n",
    "my_job = {}\n",
    "my_job['Executable'] = job_configuration\n",
    "my_job['Imports'] = [job_config]\n",
    "my_job['Resources'] = {  \n",
    "    \"CPUs\": \"1\"}\n",
    "my_job"
   ]
  },
  {
   "cell_type": "code",
   "execution_count": 3,
   "metadata": {},
   "outputs": [
    {
     "data": {
      "text/plain": [
       "{'owner': 'UID=lia.domide@codemart.ro',\n",
       " 'submissionPreferences': {'UC_OAUTH_BEARER_TOKEN': ['eyJhbGciOiJSUzI1NiIsInR5cCIgOiAiSldUIiwia2lkIiA6ICJfNkZVSHFaSDNIRmVhS0pEZDhXcUx6LWFlZ3kzYXFodVNJZ1RXaTA1U2k0In0.eyJqdGkiOiJhNDhiOGY4My0wMjlmLTQ5YmYtOTdhMC1iNDkxMjIyNGUzNGYiLCJleHAiOjE1OTE2OTEyNzgsIm5iZiI6MCwiaWF0IjoxNTkxMDkwOTYzLCJpc3MiOiJodHRwczovL2lhbS5lYnJhaW5zLmV1L2F1dGgvcmVhbG1zL2hicCIsImF1ZCI6WyJyZWFsbS1tYW5hZ2VtZW50IiwieHdpa2kiLCJ0ZWFtIiwiZ3JvdXAiXSwic3ViIjoiYzg0M2M1NDMtNzIyNy00YzkxLWJjMmYtZDU5MGM5YWRmOGFmIiwidHlwIjoiQmVhcmVyIiwiYXpwIjoianVweXRlcmh1YiIsImF1dGhfdGltZSI6MTU5MTA4NjQ3OCwic2Vzc2lvbl9zdGF0ZSI6IjdmYzAxMzA5LTczNjEtNGMwYy04ZjFjLTY0MDliYzNiNTE3MSIsImFjciI6IjAiLCJhbGxvd2VkLW9yaWdpbnMiOlsiaHR0cHM6Ly9sYWIuZWJyYWlucy5ldS8iXSwicmVhbG1fYWNjZXNzIjp7InJvbGVzIjpbIm9mZmxpbmVfYWNjZXNzIl19LCJzY29wZSI6ImNvbGxhYi5kcml2ZSBjbGIuZHJpdmU6d3JpdGUgcHJvZmlsZSBvZmZsaW5lX2FjY2VzcyBlbWFpbCBvcGVuaWQgY2xiLmRyaXZlOnJlYWQiLCJlbWFpbF92ZXJpZmllZCI6dHJ1ZSwibmFtZSI6IkxpYSBEb21pZGUiLCJtaXRyZWlkLXN1YiI6IjMwMjQ0MyIsInByZWZlcnJlZF91c2VybmFtZSI6Imxkb21pZGUiLCJnaXZlbl9uYW1lIjoiTGlhIiwiZmFtaWx5X25hbWUiOiJEb21pZGUiLCJlbWFpbCI6ImxpYS5kb21pZGVAY29kZW1hcnQucm8ifQ.H9DmFYu6k0sZZSBlH5Wt0_nvHbaMdegshOxQa2bTJlrDTM4D3MlBujpFRXoZlZ0rK6Ej-YQx88GyVSgk4Aa5nByxb_0qZvILYbc4Z0oZKBuDlWd-YirOBVJdv-DJ66eiwySpL54cK2cMSjliGrdHYAVIuRxJVmp_KzZa-m1oVE8H4vJAuaKMkMvFU4wFJBq1qTacXFjMYbybPFF0004Bz9ti9LjEeKZQs4PfutYyt_82bN0OGIzZJmcpTRJBzkyMd76GSg2iOtS7i9jZgV-I6Mx-hGQOU1yjFd6c5ZCQWGwd35NFJinKjORxtQF0h4DgLrgdrudTtWeXaN-47iY7mQ']},\n",
       " 'log': ['Tue Jun 02 14:29:14 CEST 2020: Created with ID 4a67c25e-a39d-4edc-bd9d-ebc78e49d523',\n",
       "  \"Tue Jun 02 14:29:14 CEST 2020: Created with type 'JSDL'\",\n",
       "  \"Tue Jun 02 14:29:14 CEST 2020: Client: Name: UID=lia.domide@codemart.ro\\nXlogin: uid: [bp000226], gids: [addingOSgroups: true]\\nRole: user: role from attribute source\\nSecurity tokens: User name: UID=lia.domide@codemart.ro\\nDelegation to consignor status: true, core delegation status: false\\nMessage signature status: UNCHECKED\\nClient's original IP: 148.187.96.104\",\n",
       "  'Tue Jun 02 14:29:16 CEST 2020: Status set to PREPROCESSING (staging in).',\n",
       "  'Tue Jun 02 14:29:16 CEST 2020: Adding stage in subaction with id=2f4347fc-93e8-4205-b080-79afd39fa3b1'],\n",
       " '_links': {'action:start': {'description': 'Start',\n",
       "   'href': 'https://brissago.cscs.ch:8080/DAINT-CSCS/rest/core/jobs/4a67c25e-a39d-4edc-bd9d-ebc78e49d523/actions/start'},\n",
       "  'action:restart': {'description': 'Restart',\n",
       "   'href': 'https://brissago.cscs.ch:8080/DAINT-CSCS/rest/core/jobs/4a67c25e-a39d-4edc-bd9d-ebc78e49d523/actions/restart'},\n",
       "  'workingDirectory': {'description': 'Working directory',\n",
       "   'href': 'https://brissago.cscs.ch:8080/DAINT-CSCS/rest/core/storages/4a67c25e-a39d-4edc-bd9d-ebc78e49d523-uspace'},\n",
       "  'self': {'href': 'https://brissago.cscs.ch:8080/DAINT-CSCS/rest/core/jobs/4a67c25e-a39d-4edc-bd9d-ebc78e49d523'},\n",
       "  'details': {'description': 'BSS job details',\n",
       "   'href': 'https://brissago.cscs.ch:8080/DAINT-CSCS/rest/core/jobs/4a67c25e-a39d-4edc-bd9d-ebc78e49d523/details'},\n",
       "  'action:abort': {'description': 'Abort',\n",
       "   'href': 'https://brissago.cscs.ch:8080/DAINT-CSCS/rest/core/jobs/4a67c25e-a39d-4edc-bd9d-ebc78e49d523/actions/abort'},\n",
       "  'parentTSS': {'description': 'Parent TSS',\n",
       "   'href': 'https://brissago.cscs.ch:8080/DAINT-CSCS/rest/core/sites/16dcc4d5-d406-4aa3-8685-100fe6226696'}},\n",
       " 'resourceStatusMessage': 'N/A',\n",
       " 'siteName': 'DAINT-CSCS',\n",
       " 'acl': [],\n",
       " 'submissionTime': '2020-06-02T14:29:16+0200',\n",
       " 'statusMessage': '',\n",
       " 'tags': [],\n",
       " 'currentTime': '2020-06-02T14:29:16+0200',\n",
       " 'resourceStatus': 'READY',\n",
       " 'terminationTime': '2020-07-02T14:29:14+0200',\n",
       " 'name': 'UNICORE_Job',\n",
       " 'queue': 'N/A',\n",
       " 'status': 'STAGINGIN'}"
      ]
     },
     "execution_count": 3,
     "metadata": {},
     "output_type": "execute_result"
    }
   ],
   "source": [
    "# Actual job submission\n",
    "job = site_client.new_job(job_description=my_job, inputs=[])\n",
    "job.properties"
   ]
  },
  {
   "cell_type": "code",
   "execution_count": 4,
   "metadata": {},
   "outputs": [
    {
     "data": {
      "text/plain": [
       "True"
      ]
     },
     "execution_count": 4,
     "metadata": {},
     "output_type": "execute_result"
    }
   ],
   "source": [
    "job.is_running()"
   ]
  },
  {
   "cell_type": "code",
   "execution_count": 6,
   "metadata": {},
   "outputs": [
    {
     "data": {
      "text/plain": [
       "{'owner': 'UID=lia.domide@codemart.ro',\n",
       " 'umask': '77',\n",
       " 'mountPoint': '/scratch/snx3000/unicore/FILESPACE/4a67c25e-a39d-4edc-bd9d-ebc78e49d523/',\n",
       " 'freeSpace': 6041893191208960,\n",
       " '_links': {'action:rename': {'description': \"Rename file 'from' to file 'to'.\",\n",
       "   'href': 'https://brissago.cscs.ch:8080/DAINT-CSCS/rest/core/storages/4a67c25e-a39d-4edc-bd9d-ebc78e49d523-uspace/actions/rename'},\n",
       "  'self': {'href': 'https://brissago.cscs.ch:8080/DAINT-CSCS/rest/core/storages/4a67c25e-a39d-4edc-bd9d-ebc78e49d523-uspace'},\n",
       "  'files': {'description': 'Files',\n",
       "   'href': 'https://brissago.cscs.ch:8080/DAINT-CSCS/rest/core/storages/4a67c25e-a39d-4edc-bd9d-ebc78e49d523-uspace/files'},\n",
       "  'action:copy': {'description': \"Copy file 'from' to file 'to'.\",\n",
       "   'href': 'https://brissago.cscs.ch:8080/DAINT-CSCS/rest/core/storages/4a67c25e-a39d-4edc-bd9d-ebc78e49d523-uspace/actions/copy'}},\n",
       " 'resourceStatusMessage': 'N/A',\n",
       " 'siteName': 'DAINT-CSCS',\n",
       " 'description': \"Job's workspace\",\n",
       " 'acl': [],\n",
       " 'usableSpace': -1,\n",
       " 'tags': [],\n",
       " 'currentTime': '2020-06-02T14:29:30+0200',\n",
       " 'resourceStatus': 'READY',\n",
       " 'metadataSupported': False,\n",
       " 'filesystemDescription': 'UNICORE TSI at gnifetti01.cscs.ch:4433, daint101.cscs.ch:4433',\n",
       " 'protocols': ['BFT']}"
      ]
     },
     "execution_count": 6,
     "metadata": {},
     "output_type": "execute_result"
    }
   ],
   "source": [
    "wd = job.working_dir\n",
    "wd.properties"
   ]
  },
  {
   "cell_type": "markdown",
   "metadata": {},
   "source": [
    "## Result\n",
    "The following cell should be run and inspected several times, until you see that the operation is done:"
   ]
  },
  {
   "cell_type": "code",
   "execution_count": 18,
   "metadata": {},
   "outputs": [
    {
     "data": {
      "text/plain": [
       "[b' 25 %: network time: 49.8 ms, realtime factor: 0.0000',\n",
       " b' 50 %: network time: 49.9 ms, realtime factor: 0.0000',\n",
       " b' 75 %: network time: 49.9 ms, realtime factor: 0.0000',\n",
       " b'100 %: network time: 49.9 ms, realtime factor: 0.0000',\n",
       " b'',\n",
       " b'',\n",
       " b'  0 %: network time: 49.9 ms, realtime factor: 0.0000',\n",
       " b' 25 %: network time: 49.9 ms, realtime factor: 0.0000',\n",
       " b' 50 %: network time: 50.0 ms, realtime factor: 0.0000',\n",
       " b' 75 %: network time: 50.0 ms, realtime factor: 0.0000',\n",
       " b'100 %: network time: 50.0 ms, realtime factor: 0.0000',\n",
       " b'',\n",
       " b'...100.0% done in 10.3 sec',\n",
       " b'',\n",
       " b'  0 %: network time: 50.0 ms, realtime factor: 0.0000',\n",
       " b'100 %: network time: 50.0 ms, realtime factor: 0.0000',\n",
       " b'',\n",
       " b'Simulated in 10.296458 secs!',\n",
       " b'[1549949.921239828] [nid00157-38080] [CommonUtility] [DEBUG] [\"/apps/daint/system/opt/sarus/1.1.0/bin/runc.amd64\", \"run\", \"--preserve-fds\", \"2\", \"container-yllbqiircwgvjqhq\"] exited with status 1',\n",
       " b'[1549949.921282786] [nid00157-38080] [runtime] [INFO] [\"/apps/daint/system/opt/sarus/1.1.0/bin/runc.amd64\", \"run\", \"--preserve-fds\", \"2\", \"container-yllbqiircwgvjqhq\"] exited with code 1']"
      ]
     },
     "execution_count": 18,
     "metadata": {},
     "output_type": "execute_result"
    }
   ],
   "source": [
    "out = wd.stat(\"stdout\")\n",
    "f = out.raw()\n",
    "\n",
    "all_lines = f.read().splitlines()\n",
    "all_lines[-20:]"
   ]
  },
  {
   "cell_type": "code",
   "execution_count": 10,
   "metadata": {},
   "outputs": [
    {
     "data": {
      "text/plain": [
       "[]"
      ]
     },
     "execution_count": 10,
     "metadata": {},
     "output_type": "execute_result"
    }
   ],
   "source": [
    "err = wd.stat(\"stderr\")\n",
    "f = err.raw()\n",
    "f.readlines()"
   ]
  },
  {
   "cell_type": "code",
   "execution_count": null,
   "metadata": {
    "collapsed": true,
    "jupyter": {
     "outputs_hidden": true
    }
   },
   "outputs": [],
   "source": []
  }
 ],
 "metadata": {
  "kernelspec": {
   "display_name": "Python 3",
   "language": "python",
   "name": "python3"
  },
  "language_info": {
   "codemirror_mode": {
    "name": "ipython",
    "version": 3
   },
   "file_extension": ".py",
   "mimetype": "text/x-python",
   "name": "python",
   "nbconvert_exporter": "python",
   "pygments_lexer": "ipython3",
   "version": "3.6.9"
  },
  "pycharm": {
   "stem_cell": {
    "cell_type": "raw",
    "metadata": {
     "collapsed": false
    },
    "source": []
   }
  }
 },
 "nbformat": 4,
 "nbformat_minor": 4
}
